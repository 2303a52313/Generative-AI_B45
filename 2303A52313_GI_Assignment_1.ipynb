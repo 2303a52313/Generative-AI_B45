{
  "nbformat": 4,
  "nbformat_minor": 0,
  "metadata": {
    "colab": {
      "provenance": [],
      "include_colab_link": true
    },
    "kernelspec": {
      "name": "python3",
      "display_name": "Python 3"
    },
    "language_info": {
      "name": "python"
    }
  },
  "cells": [
    {
      "cell_type": "markdown",
      "metadata": {
        "id": "view-in-github",
        "colab_type": "text"
      },
      "source": [
        "<a href=\"https://colab.research.google.com/github/2303a52313/Generative-AI_B45/blob/main/2303A52313_GI_Assignment_1.ipynb\" target=\"_parent\"><img src=\"https://colab.research.google.com/assets/colab-badge.svg\" alt=\"Open In Colab\"/></a>"
      ]
    },
    {
      "cell_type": "code",
      "source": [
        "import numpy as np\n",
        "from sklearn.metrics import mean_absolute_error, mean_squared_error, r2_score\n",
        "\n",
        "Y_actual = np.array([20, 30, 40, 50, 60])\n",
        "Y_pred = np.array([20.5, 30.3, 40.2, 50.6, 60.7])\n",
        "\n",
        "def mean_absolute_error_custom(y_actual, y_pred):\n",
        "    return np.mean(np.abs(y_actual - y_pred))\n",
        "\n",
        "    def mean_squared_error_custom(y_actual, y_pred):\n",
        "        return np.mean((y_actual - y_pred) ** 2)\n",
        "\n",
        "        def r2_score_custom(y_actual, y_pred):\n",
        "            ss_total = np.sum((y_actual - np.mean(y_actual)) ** 2)\n",
        "            ss_residual = np.sum((y_actual - y_pred) ** 2)\n",
        "            return 1 - (ss_residual / ss_total)\n",
        "\n",
        "            mae_custom = mean_absolute_error_custom(Y_actual, Y_pred)\n",
        "            mse_custom = mean_squared_error_custom(Y_actual, Y_pred)\n",
        "            r2_custom = r2_score_custom(Y_actual, Y_pred)\n",
        "\n",
        "print(f\"Custom Mean Absolute Error (MAE): {mae_custom}\")\n",
        "print(f\"Custom Mean Squared Error (MSE): {mse_custom}\")\n",
        "print(f\"Custom R² Score: {r2_custom}\")\n",
        "\n",
        "mae_library = mean_absolute_error(Y_actual, Y_pred)\n",
        "mse_library = mean_squared_error(Y_actual, Y_pred)\n",
        "r2_library = r2_score(Y_actual, Y_pred)\n",
        "\n",
        "print(\"\\nLibrary results using scikit-learn:\")\n",
        "print(f\"Mean Absolute Error (MAE): {mae_library}\")\n",
        "print(f\"Mean Squared Error (MSE): {mse_library}\")\n",
        "print(f\"R² Score: {r2_library}\")"
      ],
      "metadata": {
        "colab": {
          "base_uri": "https://localhost:8080/",
          "height": 211
        },
        "id": "o5fmubZ-9U2m",
        "outputId": "26195b8c-6de7-4670-eba2-da00d56e6d9e"
      },
      "execution_count": null,
      "outputs": [
        {
          "output_type": "error",
          "ename": "NameError",
          "evalue": "name 'mae_custom' is not defined",
          "traceback": [
            "\u001b[0;31m---------------------------------------------------------------------------\u001b[0m",
            "\u001b[0;31mNameError\u001b[0m                                 Traceback (most recent call last)",
            "\u001b[0;32m<ipython-input-1-b4ed534f2fe2>\u001b[0m in \u001b[0;36m<cell line: 0>\u001b[0;34m()\u001b[0m\n\u001b[1;32m     20\u001b[0m             \u001b[0mr2_custom\u001b[0m \u001b[0;34m=\u001b[0m \u001b[0mr2_score_custom\u001b[0m\u001b[0;34m(\u001b[0m\u001b[0mY_actual\u001b[0m\u001b[0;34m,\u001b[0m \u001b[0mY_pred\u001b[0m\u001b[0;34m)\u001b[0m\u001b[0;34m\u001b[0m\u001b[0;34m\u001b[0m\u001b[0m\n\u001b[1;32m     21\u001b[0m \u001b[0;34m\u001b[0m\u001b[0m\n\u001b[0;32m---> 22\u001b[0;31m \u001b[0mprint\u001b[0m\u001b[0;34m(\u001b[0m\u001b[0;34mf\"Custom Mean Absolute Error (MAE): {mae_custom}\"\u001b[0m\u001b[0;34m)\u001b[0m\u001b[0;34m\u001b[0m\u001b[0;34m\u001b[0m\u001b[0m\n\u001b[0m\u001b[1;32m     23\u001b[0m \u001b[0mprint\u001b[0m\u001b[0;34m(\u001b[0m\u001b[0;34mf\"Custom Mean Squared Error (MSE): {mse_custom}\"\u001b[0m\u001b[0;34m)\u001b[0m\u001b[0;34m\u001b[0m\u001b[0;34m\u001b[0m\u001b[0m\n\u001b[1;32m     24\u001b[0m \u001b[0mprint\u001b[0m\u001b[0;34m(\u001b[0m\u001b[0;34mf\"Custom R² Score: {r2_custom}\"\u001b[0m\u001b[0;34m)\u001b[0m\u001b[0;34m\u001b[0m\u001b[0;34m\u001b[0m\u001b[0m\n",
            "\u001b[0;31mNameError\u001b[0m: name 'mae_custom' is not defined"
          ]
        }
      ]
    },
    {
      "cell_type": "code",
      "source": [
        "from sklearn.metrics import accuracy_score, precision_score, recall_score, f1_score, classification_report\n",
        "import numpy as np\n",
        "\n",
        "Y_actual = [0, 0, 1, 1, 2, 0, 0, 1, 0, 2, 0, 2, 1, 2, 2]\n",
        "Y_pred = [0, 1, 0, 2, 0, 2, 1, 2, 2, 2, 1, 0, 2, 2, 2]\n",
        "\n",
        "def calculate_metrics(y_true, y_pred):\n",
        "    classes = set(y_true)\n",
        "    metrics = {\"accuracy\": None, \"precision\": {}, \"recall\": {}, \"f1_score\": {}}\n",
        "\n",
        "    correct_predictions = sum([1 for actual, pred in zip(y_true, y_pred) if actual == pred])\n",
        "    metrics[\"accuracy\"] = correct_predictions / len(y_true)\n",
        "\n",
        "    for c in classes:\n",
        "      tp = sum([1 for actual, pred in zip(y_true, y_pred) if actual == c and pred == c])\n",
        "      fp = sum([1 for actual, pred in zip(y_true, y_pred) if actual != c and pred == c])\n",
        "      fn = sum([1 for actual, pred in zip(y_true, y_pred) if actual == c and pred != c])\n",
        "\n",
        "      precision = tp / (tp + fp) if (tp + fp) > 0 else 0\n",
        "      recall = tp / (tp + fn) if (tp + fn) > 0 else 0\n",
        "      f1 = 2 * (precision * recall) / (precision + recall) if (precision + recall) > 0 else 0\n",
        "\n",
        "      metrics[\"precision\"][c] = precision\n",
        "      metrics[\"recall\"][c] = recall\n",
        "      metrics[\"f1_score\"][c] = f1\n",
        "\n",
        "    return metrics\n",
        "\n",
        "scratch_metrics = calculate_metrics(Y_actual, Y_pred)\n",
        "\n",
        "accuracy = accuracy_score(Y_actual, Y_pred)\n",
        "precision = precision_score(Y_actual, Y_pred, average=None, zero_division=0)\n",
        "recall = recall_score(Y_actual, Y_pred, average=None, zero_division=0)\n",
        "f1 = f1_score(Y_actual, Y_pred, average=None, zero_division=0)\n",
        "\n",
        "print(\"Metrics calculated from scratch:\")\n",
        "print(f\"Accuracy: {scratch_metrics['accuracy']}\")\n",
        "print(f\"Precision: {scratch_metrics['precision']}\")\n",
        "print(f\"Recall: {scratch_metrics['recall']}\")\n",
        "print(f\"F1 Score: {scratch_metrics['f1_score']}\")\n",
        "\n",
        "print(\"\\nMetrics calculated using libraries:\")\n",
        "print(f\"Accuracy: {accuracy}\")\n",
        "print(f\"Precision: {dict(enumerate(precision))}\")\n",
        "print(f\"Recall: {dict(enumerate(recall))}\")\n",
        "print(f\"F1 Score: {dict(enumerate(f1))}\")"
      ],
      "metadata": {
        "colab": {
          "base_uri": "https://localhost:8080/"
        },
        "id": "DxSMgwKO-WWY",
        "outputId": "b5dee749-a1d0-4c3f-e8ae-d94f816cc5cc"
      },
      "execution_count": null,
      "outputs": [
        {
          "output_type": "stream",
          "name": "stdout",
          "text": [
            "Metrics calculated from scratch:\n",
            "Accuracy: 0.26666666666666666\n",
            "Precision: {0: 0.25, 1: 0.0, 2: 0.375}\n",
            "Recall: {0: 0.16666666666666666, 1: 0.0, 2: 0.6}\n",
            "F1 Score: {0: 0.2, 1: 0, 2: 0.4615384615384615}\n",
            "\n",
            "Metrics calculated using libraries:\n",
            "Accuracy: 0.26666666666666666\n",
            "Precision: {0: 0.25, 1: 0.0, 2: 0.375}\n",
            "Recall: {0: 0.16666666666666666, 1: 0.0, 2: 0.6}\n",
            "F1 Score: {0: 0.2, 1: 0.0, 2: 0.46153846153846156}\n"
          ]
        }
      ]
    }
  ]
}